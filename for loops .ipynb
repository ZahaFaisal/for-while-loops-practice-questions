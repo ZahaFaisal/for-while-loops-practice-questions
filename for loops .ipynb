{
 "cells": [
  {
   "cell_type": "code",
   "execution_count": 1,
   "id": "c268485b-40dc-4e40-9233-d2c86f010597",
   "metadata": {},
   "outputs": [
    {
     "name": "stdout",
     "output_type": "stream",
     "text": [
      "the grey man: 0\n",
      "beast: 1\n",
      "uncharted: 2\n",
      "extraction: 3\n"
     ]
    }
   ],
   "source": [
    "# List Iteration\n",
    "favourite_movies=['the grey man','beast','uncharted','extraction']\n",
    "for index, movie in enumerate(favourite_movies):\n",
    "    print(f\"{movie}: {index}\")"
   ]
  },
  {
   "cell_type": "code",
   "execution_count": 6,
   "id": "3938a0fe-fa58-40b8-8119-8e8b4cb1cfd9",
   "metadata": {},
   "outputs": [
    {
     "name": "stdout",
     "output_type": "stream",
     "text": [
      "harry potter: 0\n",
      "fault in our stars: 1\n",
      "DEAD POOL N WOLVERINE: 2\n"
     ]
    }
   ],
   "source": [
    "# List Iteration\n",
    "favourite_movies=['harry potter','fault in our stars','DEAD POOL N WOLVERINE']\n",
    "for i in range(len(favourite_movies)):\n",
    "    print(f\"{favourite_movies[i]}: {i}\")\n",
    "    "
   ]
  },
  {
   "cell_type": "code",
   "execution_count": 7,
   "id": "935bbc87-619c-4cef-8458-73e1ef7c207f",
   "metadata": {},
   "outputs": [
    {
     "name": "stdout",
     "output_type": "stream",
     "text": [
      "Z\n",
      "a\n",
      "h\n",
      "a\n",
      " \n",
      "F\n",
      "a\n",
      "i\n",
      "s\n",
      "a\n",
      "l\n",
      "No. of vowels: 5\n"
     ]
    }
   ],
   "source": [
    "# String Iteration\n",
    "full_name='Zaha Faisal'\n",
    "for char in full_name:\n",
    "    print(char)\n",
    "vowels='aeiou'\n",
    "count=0\n",
    "for char in full_name:\n",
    "    if char in vowels:\n",
    "        count+=1\n",
    "print('No. of vowels:', count)"
   ]
  },
  {
   "cell_type": "code",
   "execution_count": 9,
   "id": "fdf3fd25-7df4-4d2d-aa6d-e48a65d543e4",
   "metadata": {},
   "outputs": [
    {
     "name": "stdout",
     "output_type": "stream",
     "text": [
      "\n",
      "Zaha\n",
      "91\n",
      "\n",
      "Amna\n",
      "90\n",
      "\n",
      "Mehak\n",
      "89\n",
      "\n",
      "tasmiyyah\n",
      "89\n",
      "\n",
      "mishaym\n",
      "92\n",
      "\n",
      "Student with highest grade: mishaym\n"
     ]
    }
   ],
   "source": [
    "# Dictionary Iteration\n",
    "students_grades={'Zaha':91,'Amna':90,'Mehak':89,'tasmiyyah':89,'mishaym':92}\n",
    "for name, grade in students_grades.items():\n",
    "    print(f\"\\n{name}\")\n",
    "    print(grade)\n",
    "highest_grade=max(students_grades.values())\n",
    "for name, grade in students_grades.items():\n",
    "    if grade==highest_grade:\n",
    "        print(f\"\\nStudent with highest grade: {name}\")"
   ]
  },
  {
   "cell_type": "code",
   "execution_count": 10,
   "id": "57c0e36f-8876-4d5f-b365-7e54c1a383e4",
   "metadata": {},
   "outputs": [
    {
     "name": "stdout",
     "output_type": "stream",
     "text": [
      "3 2 3 \n",
      "4 8 6 \n",
      "7 83 6 \n",
      "Sum of all elements in matrix: 122\n"
     ]
    }
   ],
   "source": [
    "# Nested for loops\n",
    "matrix=[\n",
    "    [3,2,3],\n",
    "    [4,8,6],\n",
    "    [7,83,6]\n",
    "]\n",
    "for row in matrix:\n",
    "    for cell in row:\n",
    "        print(cell, end=' ')\n",
    "    print()\n",
    "sum=0\n",
    "for row in matrix:\n",
    "    for cell in row:\n",
    "        sum+=cell\n",
    "print('Sum of all elements in matrix:',sum)"
   ]
  },
  {
   "cell_type": "code",
   "execution_count": 11,
   "id": "90ed279a-86d8-483d-a372-182af1435df5",
   "metadata": {},
   "outputs": [
    {
     "name": "stdout",
     "output_type": "stream",
     "text": [
      "Using for loop: [1, 4, 9, 16, 25, 36, 49, 64, 81, 100]\n",
      "Using list comprehension: [1, 4, 9, 16, 25, 36, 49, 64, 81, 100]\n"
     ]
    }
   ],
   "source": [
    "# Printing squares\n",
    "# Using for loop\n",
    "squares=[]\n",
    "for i in range(1,11):\n",
    "    squares.append(i**2)\n",
    "print('Using for loop:',squares)\n",
    "# Using List Comprehension\n",
    "squares=[i**2 for i in range(1,11)]\n",
    "print('Using list comprehension:',squares)"
   ]
  },
  {
   "cell_type": "code",
   "execution_count": null,
   "id": "c151afe6-06e4-4b04-a1fe-aba18fb3cfa5",
   "metadata": {},
   "outputs": [],
   "source": []
  }
 ],
 "metadata": {
  "kernelspec": {
   "display_name": "Python 3 (ipykernel)",
   "language": "python",
   "name": "python3"
  },
  "language_info": {
   "codemirror_mode": {
    "name": "ipython",
    "version": 3
   },
   "file_extension": ".py",
   "mimetype": "text/x-python",
   "name": "python",
   "nbconvert_exporter": "python",
   "pygments_lexer": "ipython3",
   "version": "3.12.4"
  }
 },
 "nbformat": 4,
 "nbformat_minor": 5
}
