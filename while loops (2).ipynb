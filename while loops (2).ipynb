{
 "cells": [
  {
   "cell_type": "code",
   "execution_count": 1,
   "id": "b439d15e-11a2-49c7-86b5-d1d038a28059",
   "metadata": {},
   "outputs": [
    {
     "name": "stdout",
     "output_type": "stream",
     "text": [
      "1\n",
      "2\n",
      "3\n",
      "4\n",
      "5\n",
      "6\n",
      "7\n",
      "8\n",
      "9\n",
      "10\n"
     ]
    }
   ],
   "source": [
    "#Q1)\n",
    "count=1\n",
    "while count<=10:\n",
    "    print(count)\n",
    "    count+=1"
   ]
  },
  {
   "cell_type": "code",
   "execution_count": 2,
   "id": "4fb01b84-3b28-4ae4-ab5c-e0f25b10c4b6",
   "metadata": {},
   "outputs": [
    {
     "name": "stdout",
     "output_type": "stream",
     "text": [
      "2\n",
      "4\n",
      "6\n",
      "8\n",
      "10\n",
      "12\n",
      "14\n",
      "16\n",
      "18\n",
      "20\n"
     ]
    }
   ],
   "source": [
    "#Q2)Even Number\n",
    "even_number = 2\n",
    "while even_number <= 20 :\n",
    "    print(even_number)\n",
    "    even_number += 2"
   ]
  },
  {
   "cell_type": "code",
   "execution_count": 3,
   "id": "229ce858-368d-4cfb-9204-a78e3ce53ce1",
   "metadata": {},
   "outputs": [
    {
     "name": "stdout",
     "output_type": "stream",
     "text": [
      "The sum of first 10 natural numbers: 55\n"
     ]
    }
   ],
   "source": [
    "# Q3. Sum of Natural numbers\n",
    "count=1\n",
    "sum=0\n",
    "while count<=10:\n",
    "    sum+=count\n",
    "    count+=1\n",
    "print('The sum of first 10 natural numbers:',sum)"
   ]
  },
  {
   "cell_type": "code",
   "execution_count": 4,
   "id": "8d2edb27-f77d-43fb-becb-5405fa553fa9",
   "metadata": {},
   "outputs": [
    {
     "name": "stdin",
     "output_type": "stream",
     "text": [
      "Please enter a number and enter a negative number to exit:  544\n",
      "Please enter a number and enter a negative number to exit:  7464553\n",
      "Please enter a number and enter a negative number to exit:  -89\n"
     ]
    },
    {
     "name": "stdout",
     "output_type": "stream",
     "text": [
      "The sum of all the numbers which you have enterd = 7465097\n"
     ]
    }
   ],
   "source": [
    "#Q4.User Input with Condition \n",
    "sum=0\n",
    "while True:\n",
    "    num=int(input(\"Please enter a number and enter a negative number to exit: \"))\n",
    "    if num<0:\n",
    "        break\n",
    "    sum=num+sum\n",
    "print(f\"The sum of all the numbers which you have enterd = {sum}\")"
   ]
  },
  {
   "cell_type": "code",
   "execution_count": 6,
   "id": "0f0af394-2cf3-4d7a-aa97-df8f15d9da87",
   "metadata": {},
   "outputs": [
    {
     "name": "stdout",
     "output_type": "stream",
     "text": [
      "Let's start the number guessing game\n"
     ]
    },
    {
     "name": "stdin",
     "output_type": "stream",
     "text": [
      "Enter a number to guess the number which I have decided :  43\n"
     ]
    },
    {
     "name": "stdout",
     "output_type": "stream",
     "text": [
      "You have picked a lower number than my guessed number try again\n"
     ]
    },
    {
     "name": "stdin",
     "output_type": "stream",
     "text": [
      "Enter a number to guess the number which I have decided :  65\n"
     ]
    },
    {
     "name": "stdout",
     "output_type": "stream",
     "text": [
      "You have picked a higher number than my guessed number try again\n"
     ]
    },
    {
     "name": "stdin",
     "output_type": "stream",
     "text": [
      "Enter a number to guess the number which I have decided :  12\n"
     ]
    },
    {
     "name": "stdout",
     "output_type": "stream",
     "text": [
      "You have picked a lower number than my guessed number try again\n"
     ]
    },
    {
     "name": "stdin",
     "output_type": "stream",
     "text": [
      "Enter a number to guess the number which I have decided :  56\n"
     ]
    },
    {
     "name": "stdout",
     "output_type": "stream",
     "text": [
      "CONGRATULATIONS YOU HAVE GUESSED THE RIGHT NUMBER\n"
     ]
    }
   ],
   "source": [
    "#Q5.Number Guessing Game \n",
    "\n",
    "number=56\n",
    "print(\"Let's start the number guessing game\")\n",
    "while True:\n",
    "    n=int(input(\"Enter a number to guess the number which I have decided : \"))\n",
    "    if n==number:\n",
    "        print(\"CONGRATULATIONS YOU HAVE GUESSED THE RIGHT NUMBER\")\n",
    "        break\n",
    "    if n<number:\n",
    "        print(\"You have picked a lower number than my guessed number try again\")\n",
    "    else:\n",
    "        print(\"You have picked a higher number than my guessed number try again\")"
   ]
  },
  {
   "cell_type": "code",
   "execution_count": 7,
   "id": "d9a09267-92ef-4438-9539-c21417f5f667",
   "metadata": {},
   "outputs": [
    {
     "name": "stdin",
     "output_type": "stream",
     "text": [
      "Enter a number whose factorial you wnat to find:  34\n"
     ]
    },
    {
     "name": "stdout",
     "output_type": "stream",
     "text": [
      "The factorial of 34 = 295232799039604140847618609643520000000\n"
     ]
    }
   ],
   "source": [
    "#Q6.Factorial Calculation\n",
    "fact=1\n",
    "digit=int(input(\"Enter a number whose factorial you wnat to find: \"))\n",
    "x=1\n",
    "x*=digit\n",
    "while x>0:\n",
    "    fact*=x\n",
    "    x-=1\n",
    "print(f\"The factorial of {digit} = {fact}\")"
   ]
  },
  {
   "cell_type": "code",
   "execution_count": 8,
   "id": "dca27213-08ae-4de3-9e34-9fc7e2b18f21",
   "metadata": {},
   "outputs": [
    {
     "name": "stdin",
     "output_type": "stream",
     "text": [
      "Enter a number or('done' to finish): 2\n",
      "Enter a number or('done' to finish): 567\n",
      "Enter a number or('done' to finish): 353646\n",
      "Enter a number or('done' to finish): done\n"
     ]
    },
    {
     "name": "stdout",
     "output_type": "stream",
     "text": [
      "Average: 118071.66666666667\n"
     ]
    }
   ],
   "source": [
    "# 7. Average Calculator\n",
    "total=0\n",
    "count=0\n",
    "while True:\n",
    "    number=input(\"Enter a number or('done' to finish):\")\n",
    "    if number.lower()=='done':\n",
    "        break\n",
    "    else:\n",
    "        total+=float(number)\n",
    "        count+=1\n",
    "print('Average:', total/count)"
   ]
  },
  {
   "cell_type": "code",
   "execution_count": 9,
   "id": "11b973b2-ad55-4e2f-be60-71b19bd23307",
   "metadata": {},
   "outputs": [
    {
     "name": "stdin",
     "output_type": "stream",
     "text": [
      "Enter a number: 35\n"
     ]
    },
    {
     "name": "stdout",
     "output_type": "stream",
     "text": [
      "0 1 1 2 3 5 8 13 21 34 "
     ]
    }
   ],
   "source": [
    "# 8. Fibonacci Sequence\n",
    "n=int(input('Enter a number:'))\n",
    "a, b = 0, 1\n",
    "while a<=n:\n",
    "    print(a, end=' ')\n",
    "    a, b = b, a+b"
   ]
  },
  {
   "cell_type": "code",
   "execution_count": null,
   "id": "d6ee0209-d46b-43ed-8aa3-ec0f85282dd5",
   "metadata": {},
   "outputs": [],
   "source": []
  }
 ],
 "metadata": {
  "kernelspec": {
   "display_name": "Python 3 (ipykernel)",
   "language": "python",
   "name": "python3"
  },
  "language_info": {
   "codemirror_mode": {
    "name": "ipython",
    "version": 3
   },
   "file_extension": ".py",
   "mimetype": "text/x-python",
   "name": "python",
   "nbconvert_exporter": "python",
   "pygments_lexer": "ipython3",
   "version": "3.12.4"
  }
 },
 "nbformat": 4,
 "nbformat_minor": 5
}
